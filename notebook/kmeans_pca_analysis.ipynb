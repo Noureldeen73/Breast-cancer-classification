{
 "cells": [
  {
   "cell_type": "code",
   "execution_count": 53,
   "metadata": {},
   "outputs": [],
   "source": [
    "import pandas as pd\n",
    "import matplotlib.pyplot as plt\n",
    "import numpy as np\n",
    "from sklearn.datasets import make_blobs\n",
    "import sys\n",
    "sys.path.append(r'C:\\Users\\shahd\\OneDrive\\Desktop\\ml-assignmnet4\\Breast-cancer-classification\\src\\modules')\n",
    "from utils import kmeans, PCA, elbow_method"
   ]
  },
  {
   "cell_type": "code",
   "execution_count": 54,
   "metadata": {},
   "outputs": [],
   "source": [
    "df = pd.read_csv(r'C:\\Users\\shahd\\OneDrive\\Desktop\\ml-assignmnet4\\Breast-cancer-classification\\data\\data.csv')"
   ]
  },
  {
   "cell_type": "code",
   "execution_count": 55,
   "metadata": {},
   "outputs": [],
   "source": [
    "features = df.drop(columns=['Unnamed: 32','diagnosis'])\n",
    "labels = df['diagnosis']"
   ]
  },
  {
   "cell_type": "code",
   "execution_count": 56,
   "metadata": {},
   "outputs": [
    {
     "ename": "UnboundLocalError",
     "evalue": "cannot access local variable 'kmeans' where it is not associated with a value",
     "output_type": "error",
     "traceback": [
      "\u001b[1;31m---------------------------------------------------------------------------\u001b[0m",
      "\u001b[1;31mUnboundLocalError\u001b[0m                         Traceback (most recent call last)",
      "Cell \u001b[1;32mIn[56], line 3\u001b[0m\n\u001b[0;32m      1\u001b[0m max_k \u001b[38;5;241m=\u001b[39m \u001b[38;5;241m10\u001b[39m\n\u001b[1;32m----> 3\u001b[0m sse_values \u001b[38;5;241m=\u001b[39m \u001b[43melbow_method\u001b[49m\u001b[43m(\u001b[49m\u001b[43mfeatures\u001b[49m\u001b[43m,\u001b[49m\u001b[43m \u001b[49m\u001b[43mmax_k\u001b[49m\u001b[38;5;241;43m=\u001b[39;49m\u001b[38;5;241;43m10\u001b[39;49m\u001b[43m)\u001b[49m\n\u001b[0;32m      4\u001b[0m plt\u001b[38;5;241m.\u001b[39mfigure()\n\u001b[0;32m      5\u001b[0m plt\u001b[38;5;241m.\u001b[39mplot(\u001b[38;5;28mrange\u001b[39m(\u001b[38;5;241m1\u001b[39m, max_k\u001b[38;5;241m+\u001b[39m\u001b[38;5;241m1\u001b[39m), sse_values, marker\u001b[38;5;241m=\u001b[39m\u001b[38;5;124m'\u001b[39m\u001b[38;5;124mo\u001b[39m\u001b[38;5;124m'\u001b[39m)\n",
      "File \u001b[1;32m~\\OneDrive\\Desktop\\ml-assignmnet4\\Breast-cancer-classification\\src\\modules\\utils.py:96\u001b[0m, in \u001b[0;36melbow_method\u001b[1;34m(X, max_k)\u001b[0m\n\u001b[0;32m     94\u001b[0m \u001b[38;5;66;03m# Run K-means for different values of k and calculate SSE\u001b[39;00m\n\u001b[0;32m     95\u001b[0m \u001b[38;5;28;01mfor\u001b[39;00m k \u001b[38;5;129;01min\u001b[39;00m \u001b[38;5;28mrange\u001b[39m(\u001b[38;5;241m1\u001b[39m, max_k \u001b[38;5;241m+\u001b[39m \u001b[38;5;241m1\u001b[39m):\n\u001b[1;32m---> 96\u001b[0m     kmeans \u001b[38;5;241m=\u001b[39m \u001b[43mkmeans\u001b[49m(k)\n\u001b[0;32m     97\u001b[0m     kmeans\u001b[38;5;241m.\u001b[39mfit(X)\n\u001b[0;32m     98\u001b[0m     sse \u001b[38;5;241m=\u001b[39m kmeans\u001b[38;5;241m.\u001b[39mcalculate_sse(X)\n",
      "\u001b[1;31mUnboundLocalError\u001b[0m: cannot access local variable 'kmeans' where it is not associated with a value"
     ]
    }
   ],
   "source": [
    "\n",
    "max_k = 10\n",
    "\n",
    "sse_values = elbow_method(features, max_k=10)\n",
    "plt.figure()\n",
    "plt.plot(range(1, max_k+1), sse_values, marker='o')\n",
    "plt.xlabel('Number of Clusters (k)')\n",
    "plt.ylabel('SSE')\n",
    "plt.title('Elbow Method')\n",
    "plt.show()"
   ]
  },
  {
   "cell_type": "code",
   "execution_count": null,
   "metadata": {},
   "outputs": [],
   "source": []
  }
 ],
 "metadata": {
  "kernelspec": {
   "display_name": "Python 3",
   "language": "python",
   "name": "python3"
  },
  "language_info": {
   "codemirror_mode": {
    "name": "ipython",
    "version": 3
   },
   "file_extension": ".py",
   "mimetype": "text/x-python",
   "name": "python",
   "nbconvert_exporter": "python",
   "pygments_lexer": "ipython3",
   "version": "3.12.4"
  }
 },
 "nbformat": 4,
 "nbformat_minor": 2
}

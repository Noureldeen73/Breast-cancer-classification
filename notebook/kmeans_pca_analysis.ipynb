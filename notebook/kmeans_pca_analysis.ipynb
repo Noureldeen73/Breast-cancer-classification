{
 "cells": [
  {
   "cell_type": "code",
   "execution_count": 7,
   "metadata": {},
   "outputs": [],
   "source": [
    "import pandas as pd\n",
    "import matplotlib.pyplot as plt\n",
    "import numpy as np\n",
    "from sklearn.datasets import make_blobs\n",
    "import sys\n",
    "sys.path.append(r'C:\\Users\\shahd\\OneDrive\\Desktop\\ml-assignmnet4\\Breast-cancer-classification\\src\\modules')\n",
    "from utils import kmeans, PCA, elbow_method"
   ]
  },
  {
   "cell_type": "code",
   "execution_count": 10,
   "metadata": {},
   "outputs": [],
   "source": [
    "df = pd.read_csv(r'C:\\Users\\shahd\\OneDrive\\Desktop\\ml-assignmnet4\\Breast-cancer-classification\\data\\data.csv', index_col=0)"
   ]
  },
  {
   "cell_type": "code",
   "execution_count": 11,
   "metadata": {},
   "outputs": [],
   "source": [
    "features = df.drop(columns=['Unnamed: 32','diagnosis'])\n",
    "labels = df['diagnosis']"
   ]
  },
  {
   "cell_type": "code",
   "execution_count": 15,
   "metadata": {},
   "outputs": [
    {
     "name": "stdout",
     "output_type": "stream",
     "text": [
      "(569, 30)\n"
     ]
    }
   ],
   "source": [
    "print(features.shape)\n",
    "#covert to numpy array\n",
    "if isinstance(features, pd.DataFrame):\n",
    "    features = features.values\n"
   ]
  },
  {
   "cell_type": "code",
   "execution_count": 16,
   "metadata": {},
   "outputs": [
    {
     "data": {
      "image/png": "[encoded data removed]",
      "text/plain": [
       "<Figure size 640x480 with 1 Axes>"
      ]
     },
     "metadata": {},
     "output_type": "display_data"
    }
   ],
   "source": [
    "max_k = 10\n",
    "sse_values = elbow_method(features, max_k=10)\n",
    "plt.figure()\n",
    "plt.plot(range(1, max_k+1), sse_values, marker='o')\n",
    "plt.xlabel('Number of Clusters (k)')\n",
    "plt.ylabel('SSE')\n",
    "plt.title('Elbow Method')\n",
    "plt.show()"
   ]
  },
  {
   "cell_type": "markdown",
   "metadata": {},
   "source": [
    "best number of k clusters using elbow method is 4/5"
   ]
  },
  {
   "cell_type": "code",
   "execution_count": 18,
   "metadata": {},
   "outputs": [
    {
     "name": "stdout",
     "output_type": "stream",
     "text": [
      "Centroids:\n",
      " [[2.34015789e+01 2.27621053e+01 1.56147368e+02 1.72942105e+03\n",
      "  1.04154211e-01 1.71922105e-01 2.39015789e-01 1.34857895e-01\n",
      "  1.85884211e-01 5.91452632e-02 1.19100000e+00 1.25407895e+00\n",
      "  8.56357895e+00 1.91449474e+02 7.10673684e-03 3.64242105e-02\n",
      "  4.79426316e-02 1.59331579e-02 2.00326316e-02 3.80478947e-03\n",
      "  2.99315789e+01 3.02952632e+01 2.03073684e+02 2.76584211e+03\n",
      "  1.41510526e-01 3.89415789e-01 5.05994737e-01 2.27526316e-01\n",
      "  2.89852632e-01 8.18736842e-02]\n",
      " [1.89783168e+01 2.16180198e+01 1.25336634e+02 1.12430693e+03\n",
      "  1.00714653e-01 1.44659505e-01 1.68814257e-01 9.66819802e-02\n",
      "  1.91992079e-01 6.06493069e-02 6.77129703e-01 1.22934950e+00\n",
      "  4.76158416e+00 8.14508911e+01 6.48108911e-03 3.16770000e-02\n",
      "  4.19978218e-02 1.58134455e-02 2.05323762e-02 4.03222772e-03\n",
      "  2.29415842e+01 2.86826733e+01 1.52752475e+02 1.61797030e+03\n",
      "  1.39230099e-01 3.46505545e-01 4.38068317e-01 1.87061089e-01\n",
      "  3.11610891e-01 8.61854455e-02]\n",
      " [1.45225414e+01 1.94853591e+01 9.47017680e+01 6.54760773e+02\n",
      "  9.63986740e-02 1.10806519e-01 9.33174972e-02 5.08652597e-02\n",
      "  1.79946409e-01 6.19937017e-02 3.51625414e-01 1.07288950e+00\n",
      "  2.51445249e+00 3.21568508e+01 6.11319890e-03 2.57552044e-02\n",
      "  3.16646961e-02 1.20207569e-02 1.82920331e-02 3.54741878e-03\n",
      "  1.66481768e+01 2.63138674e+01 1.10286851e+02 8.56992265e+02\n",
      "  1.33448895e-01 2.94730387e-01 3.16295414e-01 1.29223978e-01\n",
      "  2.98213812e-01 8.65719337e-02]\n",
      " [1.13746604e+01 1.80338060e+01 7.29983582e+01 4.01888806e+02\n",
      "  9.41407836e-02 7.99884701e-02 4.49432974e-02 2.35119478e-02\n",
      "  1.77566418e-01 6.44091045e-02 2.83132836e-01 1.30673433e+00\n",
      "  1.98523806e+00 1.96542090e+01 7.87391791e-03 2.21788507e-02\n",
      "  2.71027037e-02 9.83715299e-03 2.21019403e-02 3.87190858e-03\n",
      "  1.25300336e+01 2.37872015e+01 8.12810075e+01 4.84963433e+02\n",
      "  1.28405000e-01 1.82591978e-01 1.63309616e-01 6.94225037e-02\n",
      "  2.76479104e-01 8.14750746e-02]]\n",
      "Cluster Assignments:\n",
      " [1 1 1 3 1 2 1 2 2 2 2 2 1 2 2 2 2 1 0 2 3 3 2 0 1 1 2 1 2 1 1 2 1 1 2 2 2\n",
      " 3 2 2 2 3 1 2 2 1 3 2 3 2 3 2 3 1 2 3 1 2 3 3 3 3 2 3 2 2 3 3 3 3 1 3 1 2\n",
      " 3 2 3 1 1 3 3 3 0 1 3 1 2 1 3 2 2 2 2 2 2 1 3 3 3 2 2 3 3 3 3 2 3 3 0 3 3\n",
      " 3 2 3 3 3 3 2 2 1 3 1 0 2 3 2 2 1 2 1 3 2 2 2 1 3 3 3 2 3 3 2 3 3 3 3 3 2\n",
      " 2 2 3 3 3 3 2 3 1 2 3 3 3 1 1 3 0 2 3 1 1 2 3 2 2 3 3 3 3 2 3 3 0 1 2 3 2\n",
      " 3 1 3 3 3 2 3 3 2 2 3 2 1 1 2 3 1 1 2 3 2 3 2 3 2 1 3 0 2 2 2 3 3 1 0 2 2\n",
      " 3 2 2 2 3 2 3 2 2 3 3 1 3 2 0 1 2 1 2 3 3 2 1 3 3 3 3 3 1 3 1 1 1 2 1 2 2\n",
      " 2 1 1 1 2 1 0 3 2 3 3 2 3 0 3 1 3 3 1 2 2 1 3 1 2 3 3 3 3 3 3 2 2 3 3 3 2\n",
      " 3 3 2 3 1 3 1 3 3 3 3 3 2 2 3 2 3 3 3 3 3 1 3 3 3 1 3 1 3 3 2 3 2 2 2 3 3\n",
      " 3 3 1 3 1 3 0 2 3 3 1 3 3 3 2 3 3 3 2 0 2 3 3 3 2 3 3 3 3 3 2 2 1 1 3 0 0\n",
      " 2 2 1 1 2 2 3 2 2 3 3 3 3 3 3 2 3 2 3 1 3 3 1 1 3 2 2 3 3 3 1 3 3 3 3 3 2\n",
      " 3 1 3 3 3 3 2 2 3 3 1 3 3 3 2 3 2 3 3 3 3 3 3 2 3 1 1 2 2 3 2 2 2 3 1 2 3\n",
      " 1 3 1 2 2 1 3 1 3 2 3 2 3 3 3 3 1 0 2 3 2 2 2 3 1 3 3 3 2 3 3 3 2 2 3 2 3\n",
      " 2 2 2 2 3 2 1 3 2 3 1 1 3 3 2 3 3 1 1 2 2 3 0 3 3 3 3 2 2 3 2 2 2 2 3 1 1\n",
      " 3 3 3 0 3 2 3 3 2 3 2 3 3 3 2 1 3 1 2 3 3 3 3 2 2 3 2 2 3 3 3 3 3 3 3 3 3\n",
      " 3 3 3 2 3 2 3 2 1 1 1 2 1 3]\n",
      "Sum of Squared Errors (SSE): 29226541.651979793\n"
     ]
    }
   ],
   "source": [
    "# Create an instance of the kmeans class with desired clusters (k=4)\n",
    "kmeans_model = kmeans(k=4, max_iter=100)\n",
    "\n",
    "# Fit the model to the data\n",
    "kmeans_model.fit(features)\n",
    "\n",
    "# Access the centroids and assignments\n",
    "print(\"Centroids:\\n\", kmeans_model.centroids)\n",
    "print(\"Cluster Assignments:\\n\", kmeans_model.assignments)\n",
    "\n",
    "# Calculate and display the SSE\n",
    "sse = kmeans_model.calculate_sse(features)\n",
    "print(\"Sum of Squared Errors (SSE):\", sse)"
   ]
  },
  {
   "cell_type": "code",
   "execution_count": 19,
   "metadata": {},
   "outputs": [
    {
     "name": "stdout",
     "output_type": "stream",
     "text": [
      "Principal Components:\n",
      " [[ 5.08623202e-03 -9.28705650e-03]\n",
      " [ 2.19657026e-03  2.88160658e-03]\n",
      " [ 3.50763298e-02 -6.27480827e-02]\n",
      " [ 5.16826469e-01 -8.51823720e-01]\n",
      " [ 4.23694535e-06  1.48194356e-05]\n",
      " [ 4.05260047e-05  2.68862249e-06]\n",
      " [ 8.19399539e-05 -7.51419574e-05]\n",
      " [ 4.77807775e-05 -4.63501038e-05]\n",
      " [ 7.07804332e-06  2.52430431e-05]\n",
      " [-2.62155251e-06  1.61197148e-05]\n",
      " [ 3.13742507e-04  5.38692831e-05]\n",
      " [-6.50984008e-05 -3.48370414e-04]\n",
      " [ 2.23634150e-03 -8.19640791e-04]\n",
      " [ 5.57271669e-02 -7.51112451e-03]\n",
      " [-8.05646029e-07 -1.49438131e-06]\n",
      " [ 5.51918197e-06 -1.27357957e-05]\n",
      " [ 8.87094462e-06 -2.86921009e-05]\n",
      " [ 3.27915009e-06 -9.36007477e-06]\n",
      " [-1.24101836e-06 -1.22647432e-05]\n",
      " [-8.54530832e-08 -2.89683790e-07]\n",
      " [ 7.15473257e-03  5.68673345e-04]\n",
      " [ 3.06736622e-03  1.32152605e-02]\n",
      " [ 4.94576447e-02  1.85961117e-04]\n",
      " [ 8.52063392e-01  5.19742358e-01]\n",
      " [ 6.42005481e-06  7.68565692e-05]\n",
      " [ 1.01275937e-04  2.56104144e-04]\n",
      " [ 1.68928625e-04  1.75471479e-04]\n",
      " [ 7.36658178e-05  3.05051743e-05]\n",
      " [ 1.78986262e-05  1.57042845e-04]\n",
      " [ 1.61356159e-06  5.53071662e-05]]\n",
      "Reduced Dataset (First 5 Points):\n",
      " [[1160.1425737   293.91754364]\n",
      " [1269.12244319  -15.63018184]\n",
      " [ 995.79388896  -39.15674324]\n",
      " [-407.18080253   67.38031982]\n",
      " [ 930.34118015 -189.34074158]]\n"
     ]
    }
   ],
   "source": [
    "# Create an instance of the PCA class\n",
    "pca_model = PCA(n_components=2)\n",
    "\n",
    "# Fit and transform the dataset\n",
    "X_reduced = pca_model.fit_transform(features)\n",
    "\n",
    "# Access the principal components\n",
    "print(\"Principal Components:\\n\", pca_model.components)\n",
    "\n",
    "# Display the reduced dataset\n",
    "print(\"Reduced Dataset (First 5 Points):\\n\", X_reduced[:5])\n"
   ]
  },
  {
   "cell_type": "code",
   "execution_count": 20,
   "metadata": {},
   "outputs": [
    {
     "name": "stdout",
     "output_type": "stream",
     "text": [
      "Centroids (Reduced):\n",
      " [[2177.29735764   59.38096711]\n",
      " [-471.00460744   11.22772383]\n",
      " [ -20.37127663  -12.25544731]\n",
      " [ 876.71075314  -19.00032076]]\n",
      "Cluster Assignments (Reduced):\n",
      " [3 3 3 1 3 2 3 2 2 2 2 2 3 2 2 2 2 3 0 2 1 1 2 0 3 3 2 3 2 3 3 2 3 3 2 2 2\n",
      " 1 2 2 2 1 3 2 2 3 1 2 1 2 1 2 1 3 2 1 3 2 1 1 1 1 2 1 2 2 1 1 1 1 3 1 3 2\n",
      " 1 2 1 3 3 1 1 1 0 3 1 3 2 3 1 2 2 2 2 2 2 3 1 1 1 2 2 1 1 1 1 2 1 1 0 1 1\n",
      " 1 2 1 1 1 1 2 2 3 1 3 0 2 1 2 2 3 2 3 1 2 2 2 3 1 1 1 2 1 1 2 1 1 1 1 1 2\n",
      " 2 2 1 1 1 1 2 1 3 2 1 1 1 3 3 1 0 2 1 3 3 2 1 2 2 1 1 1 1 2 1 1 0 3 2 1 2\n",
      " 1 3 1 1 1 2 1 1 2 2 1 2 3 3 2 1 3 3 2 1 2 1 2 1 2 3 1 0 2 2 2 1 1 3 0 2 2\n",
      " 1 2 2 2 1 2 1 2 2 1 1 3 1 2 0 3 2 3 2 1 1 2 3 1 1 1 1 1 3 1 3 3 3 2 3 2 2\n",
      " 2 3 3 3 2 3 0 1 2 1 1 2 1 0 1 3 1 1 3 2 2 3 1 3 2 1 1 1 1 1 1 2 2 1 1 1 2\n",
      " 1 1 2 1 3 1 3 1 1 1 1 1 2 2 1 2 1 1 1 1 1 3 1 1 1 3 1 3 1 1 2 1 2 2 2 1 1\n",
      " 1 1 3 1 3 1 0 2 1 1 3 1 1 1 2 1 1 1 2 0 2 1 1 1 2 1 1 1 1 1 2 2 3 3 1 0 0\n",
      " 2 2 3 3 2 2 1 2 2 1 1 1 1 1 1 2 1 2 1 3 1 1 3 3 1 2 2 1 1 1 3 1 1 1 1 1 2\n",
      " 1 3 1 1 1 1 2 2 1 1 3 1 1 1 2 1 2 1 1 1 1 1 1 2 1 3 3 2 2 1 2 2 2 1 3 2 1\n",
      " 3 1 3 2 2 3 1 3 1 2 1 2 1 1 1 1 3 0 2 1 2 2 2 1 3 1 1 1 2 1 1 1 2 2 1 2 1\n",
      " 2 2 2 2 1 2 3 1 2 1 3 3 1 1 2 1 1 3 3 2 2 1 0 1 1 1 1 2 2 1 2 2 2 2 1 3 3\n",
      " 1 1 1 0 1 2 1 1 2 1 2 1 1 1 2 3 1 3 2 1 1 1 1 2 2 1 2 2 1 1 1 1 1 1 1 1 1\n",
      " 1 1 1 2 1 2 1 2 3 3 3 2 3 1]\n",
      "SSE (Reduced Data): 28823916.135840204\n"
     ]
    }
   ],
   "source": [
    "# Run K-means on the PCA-reduced dataset\n",
    "kmeans_reduced = kmeans(k=4, max_iter=100)\n",
    "kmeans_reduced.fit(X_reduced)\n",
    "\n",
    "# Access centroids and assignments for the reduced dataset\n",
    "print(\"Centroids (Reduced):\\n\", kmeans_reduced.centroids)\n",
    "print(\"Cluster Assignments (Reduced):\\n\", kmeans_reduced.assignments)\n",
    "\n",
    "# Calculate SSE for the reduced data\n",
    "sse_reduced = kmeans_reduced.calculate_sse(X_reduced)\n",
    "print(\"SSE (Reduced Data):\", sse_reduced)\n"
   ]
  },
  {
   "cell_type": "code",
   "execution_count": 23,
   "metadata": {},
   "outputs": [
    {
     "name": "stdout",
     "output_type": "stream",
     "text": [
      "SSE (Reduced Data): 28823916.135840204\n",
      "no. of components: 2\n",
      "SSE (Reduced Data): 29177304.58255875\n",
      "no. of components: 3\n",
      "SSE (Reduced Data): 29202814.515801087\n",
      "no. of components: 4\n",
      "SSE (Reduced Data): 29223543.677013926\n",
      "no. of components: 5\n",
      "SSE (Reduced Data): 29225169.48976285\n",
      "no. of components: 6\n",
      "SSE (Reduced Data): 29226188.23460943\n",
      "no. of components: 7\n",
      "SSE (Reduced Data): 29226386.637277186\n",
      "no. of components: 8\n",
      "SSE (Reduced Data): 29226467.423666887\n",
      "no. of components: 9\n",
      "SSE (Reduced Data): 29226515.12834315\n",
      "no. of components: 10\n"
     ]
    }
   ],
   "source": [
    "#different number of components in PCA\n",
    "no_of_components = [2, 3, 4, 5, 6, 7, 8, 9, 10]\n",
    "for comp in no_of_components:\n",
    "    pca_model = PCA(n_components=comp)\n",
    "    X_reduced = pca_model.fit_transform(features)\n",
    "    kmeans_reduced = kmeans(k=4, max_iter=100)\n",
    "    kmeans_reduced.fit(X_reduced)\n",
    "    sse_reduced = kmeans_reduced.calculate_sse(X_reduced)\n",
    "    print(\"SSE (Reduced Data):\", sse_reduced)\n",
    "    print(\"no. of components:\", comp)"
   ]
  },
  {
   "cell_type": "code",
   "execution_count": null,
   "metadata": {},
   "outputs": [],
   "source": []
  }
 ],
 "metadata": {
  "kernelspec": {
   "display_name": "Python 3",
   "language": "python",
   "name": "python3"
  },
  "language_info": {
   "codemirror_mode": {
    "name": "ipython",
    "version": 3
   },
   "file_extension": ".py",
   "mimetype": "text/x-python",
   "name": "python",
   "nbconvert_exporter": "python",
   "pygments_lexer": "ipython3",
   "version": "3.12.4"
  }
 },
 "nbformat": 4,
 "nbformat_minor": 2
}

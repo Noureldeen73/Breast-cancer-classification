{
 "cells": [
  {
   "cell_type": "markdown",
   "metadata": {},
   "source": [
    "### Importing libraries\n"
   ]
  },
  {
   "cell_type": "code",
   "execution_count": 1,
   "metadata": {},
   "outputs": [],
   "source": [
    "import pandas as pd\n",
    "import matplotlib.pyplot as plt"
   ]
  },
  {
   "cell_type": "code",
   "execution_count": 2,
   "metadata": {},
   "outputs": [],
   "source": [
    "df = pd.read_csv(\n",
    "    '/home/noureldeen/Data/term 7/Intro to ML/Labs/ML_assignment 4/data/data.csv', index_col=0)"
   ]
  },
  {
   "cell_type": "markdown",
   "metadata": {},
   "source": [
    "Let's take a look at the data we have loaded\n"
   ]
  },
  {
   "cell_type": "code",
   "execution_count": 3,
   "metadata": {},
   "outputs": [
    {
     "name": "stdout",
     "output_type": "stream",
     "text": [
      "(569, 32)\n",
      "Index(['diagnosis', 'radius_mean', 'texture_mean', 'perimeter_mean',\n",
      "       'area_mean', 'smoothness_mean', 'compactness_mean', 'concavity_mean',\n",
      "       'concave points_mean', 'symmetry_mean', 'fractal_dimension_mean',\n",
      "       'radius_se', 'texture_se', 'perimeter_se', 'area_se', 'smoothness_se',\n",
      "       'compactness_se', 'concavity_se', 'concave points_se', 'symmetry_se',\n",
      "       'fractal_dimension_se', 'radius_worst', 'texture_worst',\n",
      "       'perimeter_worst', 'area_worst', 'smoothness_worst',\n",
      "       'compactness_worst', 'concavity_worst', 'concave points_worst',\n",
      "       'symmetry_worst', 'fractal_dimension_worst', 'Unnamed: 32'],\n",
      "      dtype='object')\n",
      "Index([  842302,   842517, 84300903, 84348301, 84358402,   843786,   844359,\n",
      "       84458202,   844981, 84501001,\n",
      "       ...\n",
      "         925291,   925292,   925311,   925622,   926125,   926424,   926682,\n",
      "         926954,   927241,    92751],\n",
      "      dtype='int64', name='id', length=569)\n"
     ]
    }
   ],
   "source": [
    "print(df.shape)\n",
    "print(df.columns)\n",
    "print(df.index)"
   ]
  },
  {
   "cell_type": "markdown",
   "metadata": {},
   "source": [
    "Check for missing data if any\n"
   ]
  },
  {
   "cell_type": "code",
   "execution_count": 4,
   "metadata": {},
   "outputs": [
    {
     "name": "stdout",
     "output_type": "stream",
     "text": [
      "diagnosis                    0\n",
      "radius_mean                  0\n",
      "texture_mean                 0\n",
      "perimeter_mean               0\n",
      "area_mean                    0\n",
      "smoothness_mean              0\n",
      "compactness_mean             0\n",
      "concavity_mean               0\n",
      "concave points_mean          0\n",
      "symmetry_mean                0\n",
      "fractal_dimension_mean       0\n",
      "radius_se                    0\n",
      "texture_se                   0\n",
      "perimeter_se                 0\n",
      "area_se                      0\n",
      "smoothness_se                0\n",
      "compactness_se               0\n",
      "concavity_se                 0\n",
      "concave points_se            0\n",
      "symmetry_se                  0\n",
      "fractal_dimension_se         0\n",
      "radius_worst                 0\n",
      "texture_worst                0\n",
      "perimeter_worst              0\n",
      "area_worst                   0\n",
      "smoothness_worst             0\n",
      "compactness_worst            0\n",
      "concavity_worst              0\n",
      "concave points_worst         0\n",
      "symmetry_worst               0\n",
      "fractal_dimension_worst      0\n",
      "Unnamed: 32                569\n",
      "dtype: int64\n"
     ]
    }
   ],
   "source": [
    "# check fro missing data\n",
    "print(df.isnull().sum())"
   ]
  },
  {
   "cell_type": "markdown",
   "metadata": {},
   "source": [
    "Found Unamed: 32 column checking if it is important for the data or not\n"
   ]
  },
  {
   "cell_type": "code",
   "execution_count": 5,
   "metadata": {},
   "outputs": [
    {
     "name": "stdout",
     "output_type": "stream",
     "text": [
      "id\n",
      "842302     NaN\n",
      "842517     NaN\n",
      "84300903   NaN\n",
      "84348301   NaN\n",
      "84358402   NaN\n",
      "Name: Unnamed: 32, dtype: float64\n"
     ]
    }
   ],
   "source": [
    "Unamed = df['Unnamed: 32']\n",
    "print(Unamed.head())"
   ]
  },
  {
   "cell_type": "markdown",
   "metadata": {},
   "source": [
    "drop the Unamed: 32 column as it is not important\n"
   ]
  },
  {
   "cell_type": "code",
   "execution_count": 6,
   "metadata": {},
   "outputs": [
    {
     "name": "stdout",
     "output_type": "stream",
     "text": [
      "(569, 31)\n"
     ]
    }
   ],
   "source": [
    "# df = all columns except Unamed: 32\n",
    "df = df.drop(columns=['Unnamed: 32'])\n",
    "print(df.shape)"
   ]
  },
  {
   "cell_type": "markdown",
   "metadata": {},
   "source": [
    "Getting the features without the diagnosis column as it is the target\n"
   ]
  },
  {
   "cell_type": "code",
   "execution_count": 7,
   "metadata": {},
   "outputs": [
    {
     "name": "stdout",
     "output_type": "stream",
     "text": [
      "(569, 30)\n"
     ]
    }
   ],
   "source": [
    "features = df.drop(columns=['diagnosis'])\n",
    "print(features.shape)"
   ]
  },
  {
   "cell_type": "code",
   "execution_count": 11,
   "metadata": {},
   "outputs": [
    {
     "name": "stdout",
     "output_type": "stream",
     "text": [
      "Index(['radius_mean', 'texture_mean', 'perimeter_mean', 'area_mean',\n",
      "       'smoothness_mean', 'compactness_mean', 'concavity_mean',\n",
      "       'concave points_mean', 'symmetry_mean', 'fractal_dimension_mean',\n",
      "       'radius_se', 'texture_se', 'perimeter_se', 'area_se', 'smoothness_se',\n",
      "       'compactness_se', 'concavity_se', 'concave points_se', 'symmetry_se',\n",
      "       'fractal_dimension_se', 'radius_worst', 'texture_worst',\n",
      "       'perimeter_worst', 'area_worst', 'smoothness_worst',\n",
      "       'compactness_worst', 'concavity_worst', 'concave points_worst',\n",
      "       'symmetry_worst', 'fractal_dimension_worst'],\n",
      "      dtype='object')\n",
      "          radius_mean  texture_mean  perimeter_mean  area_mean  \\\n",
      "id                                                               \n",
      "842302          17.99         10.38          122.80     1001.0   \n",
      "842517          20.57         17.77          132.90     1326.0   \n",
      "84300903        19.69         21.25          130.00     1203.0   \n",
      "84348301        11.42         20.38           77.58      386.1   \n",
      "84358402        20.29         14.34          135.10     1297.0   \n",
      "\n",
      "          smoothness_mean  compactness_mean  concavity_mean  \\\n",
      "id                                                            \n",
      "842302            0.11840           0.27760          0.3001   \n",
      "842517            0.08474           0.07864          0.0869   \n",
      "84300903          0.10960           0.15990          0.1974   \n",
      "84348301          0.14250           0.28390          0.2414   \n",
      "84358402          0.10030           0.13280          0.1980   \n",
      "\n",
      "          concave points_mean  symmetry_mean  fractal_dimension_mean  ...  \\\n",
      "id                                                                    ...   \n",
      "842302                0.14710         0.2419                 0.07871  ...   \n",
      "842517                0.07017         0.1812                 0.05667  ...   \n",
      "84300903              0.12790         0.2069                 0.05999  ...   \n",
      "84348301              0.10520         0.2597                 0.09744  ...   \n",
      "84358402              0.10430         0.1809                 0.05883  ...   \n",
      "\n",
      "          radius_worst  texture_worst  perimeter_worst  area_worst  \\\n",
      "id                                                                   \n",
      "842302           25.38          17.33           184.60      2019.0   \n",
      "842517           24.99          23.41           158.80      1956.0   \n",
      "84300903         23.57          25.53           152.50      1709.0   \n",
      "84348301         14.91          26.50            98.87       567.7   \n",
      "84358402         22.54          16.67           152.20      1575.0   \n",
      "\n",
      "          smoothness_worst  compactness_worst  concavity_worst  \\\n",
      "id                                                               \n",
      "842302              0.1622             0.6656           0.7119   \n",
      "842517              0.1238             0.1866           0.2416   \n",
      "84300903            0.1444             0.4245           0.4504   \n",
      "84348301            0.2098             0.8663           0.6869   \n",
      "84358402            0.1374             0.2050           0.4000   \n",
      "\n",
      "          concave points_worst  symmetry_worst  fractal_dimension_worst  \n",
      "id                                                                       \n",
      "842302                  0.2654          0.4601                  0.11890  \n",
      "842517                  0.1860          0.2750                  0.08902  \n",
      "84300903                0.2430          0.3613                  0.08758  \n",
      "84348301                0.2575          0.6638                  0.17300  \n",
      "84358402                0.1625          0.2364                  0.07678  \n",
      "\n",
      "[5 rows x 30 columns]\n"
     ]
    }
   ],
   "source": [
    "print(features.columns)\n",
    "print(features.head())"
   ]
  },
  {
   "cell_type": "code",
   "execution_count": 12,
   "metadata": {},
   "outputs": [
    {
     "name": "stdout",
     "output_type": "stream",
     "text": [
      "(569,)\n",
      "id\n",
      "842302      M\n",
      "842517      M\n",
      "84300903    M\n",
      "84348301    M\n",
      "84358402    M\n",
      "Name: diagnosis, dtype: object\n"
     ]
    }
   ],
   "source": [
    "labels = df['diagnosis']\n",
    "print(labels.shape)\n",
    "print(labels.head())"
   ]
  },
  {
   "cell_type": "markdown",
   "metadata": {},
   "source": [
    "### Univarite analysis\n"
   ]
  },
  {
   "cell_type": "code",
   "execution_count": null,
   "metadata": {},
   "outputs": [],
   "source": [
    "# creating a subplot for each feature\n",
    "for column in features.columns:\n",
    "    plt.figure(figsize=(10, 6))\n",
    "    plt.scatter(features[column], labels, alpha=0.5)"
   ]
  },
  {
   "cell_type": "code",
   "execution_count": null,
   "metadata": {},
   "outputs": [],
   "source": []
  }
 ],
 "metadata": {
  "kernelspec": {
   "display_name": "mynewenv",
   "language": "python",
   "name": "python3"
  },
  "language_info": {
   "codemirror_mode": {
    "name": "ipython",
    "version": 3
   },
   "file_extension": ".py",
   "mimetype": "text/x-python",
   "name": "python",
   "nbconvert_exporter": "python",
   "pygments_lexer": "ipython3",
   "version": "3.12.3"
  }
 },
 "nbformat": 4,
 "nbformat_minor": 2
}

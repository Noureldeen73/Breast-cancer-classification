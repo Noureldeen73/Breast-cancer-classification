{
 "cells": [
  {
   "cell_type": "code",
   "execution_count": 3,
   "metadata": {},
   "outputs": [],
   "source": [
    "import pandas as pd"
   ]
  },
  {
   "cell_type": "code",
   "execution_count": 8,
   "metadata": {},
   "outputs": [
    {
     "name": "stderr",
     "output_type": "stream",
     "text": [
      "<>:1: SyntaxWarning: invalid escape sequence '\\S'\n",
      "<>:1: SyntaxWarning: invalid escape sequence '\\S'\n",
      "C:\\Users\\janaa\\AppData\\Local\\Temp\\ipykernel_8824\\4196888101.py:1: SyntaxWarning: invalid escape sequence '\\S'\n",
      "  data=pd.read_csv('C:\\School\\Term 7\\Introduction to Machine learning\\Lab\\Lab 4\\Breast-cancer-classification\\data\\data.csv')\n"
     ]
    }
   ],
   "source": [
    "data=pd.read_csv('C:\\School\\Term 7\\Introduction to Machine learning\\Lab\\Lab 4\\Breast-cancer-classification\\data\\data.csv')\n",
    "x=data.iloc[:2].values"
   ]
  }
 ],
 "metadata": {
  "kernelspec": {
   "display_name": "Python 3",
   "language": "python",
   "name": "python3"
  },
  "language_info": {
   "codemirror_mode": {
    "name": "ipython",
    "version": 3
   },
   "file_extension": ".py",
   "mimetype": "text/x-python",
   "name": "python",
   "nbconvert_exporter": "python",
   "pygments_lexer": "ipython3",
   "version": "3.12.4"
  }
 },
 "nbformat": 4,
 "nbformat_minor": 2
}
